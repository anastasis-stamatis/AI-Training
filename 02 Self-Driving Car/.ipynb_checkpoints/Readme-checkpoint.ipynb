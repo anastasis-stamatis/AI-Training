{
 "cells": [
  {
   "cell_type": "markdown",
   "metadata": {},
   "source": [
    "# Self-Driving Car\n",
    "I worked on this project following the instructions on the Artificial Intelligence A-Z Course (link) by SuperDataScience. My goal was to understand the fundamentals of kivy, Reinforcement Learning, including Deep Q-Learning, Exploration-Exploitation tradeoff and Experience Replay. I have added comments where necessary and made modifications to the code, in order to better understand the way Reinforcement Learning works and optimize the learning and reward processes."
   ]
  }
 ],
 "metadata": {
  "kernelspec": {
   "display_name": "Python 3",
   "language": "python",
   "name": "python3"
  },
  "language_info": {
   "codemirror_mode": {
    "name": "ipython",
    "version": 3
   },
   "file_extension": ".py",
   "mimetype": "text/x-python",
   "name": "python",
   "nbconvert_exporter": "python",
   "pygments_lexer": "ipython3",
   "version": "3.6.5"
  }
 },
 "nbformat": 4,
 "nbformat_minor": 2
}
